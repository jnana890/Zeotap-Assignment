{
 "cells": [
  {
   "cell_type": "markdown",
   "id": "473cfb01",
   "metadata": {},
   "source": [
    "#### Business Problem Understanding:\n",
    "- Build a model that takes user's information as input and recommends 3 simillar customers based on their **profile** and **transaction** history."
   ]
  },
  {
   "cell_type": "code",
   "execution_count": 20,
   "id": "e2a93e8b",
   "metadata": {},
   "outputs": [],
   "source": [
    "# Load Necessary Libraries\n",
    "import numpy as np\n",
    "import pandas as pd\n",
    "import matplotlib.pyplot as plt\n",
    "import seaborn as sns\n",
    "import warnings\n",
    "warnings.simplefilter('ignore')"
   ]
  },
  {
   "cell_type": "code",
   "execution_count": 6,
   "id": "d18f6b0d-3084-48f6-a237-3cb8f152e9e9",
   "metadata": {},
   "outputs": [],
   "source": [
    "customers = pd.read_csv('Customers.csv')\n",
    "products = pd.read_csv('Products.csv')\n",
    "transactions = pd.read_csv('Transactions.csv')"
   ]
  },
  {
   "cell_type": "code",
   "execution_count": 7,
   "id": "f0dfc1e7-501b-412d-ab48-1ba7ae1a0553",
   "metadata": {},
   "outputs": [],
   "source": [
    "# Merge transactions with product data to get product category information\n",
    "transactions = transactions.merge(products[['ProductID', 'Category']], on='ProductID', how='left')"
   ]
  },
  {
   "cell_type": "code",
   "execution_count": 8,
   "id": "5c1fd9ac-3b65-4379-b796-462f57b3dc1b",
   "metadata": {},
   "outputs": [],
   "source": [
    "# Create customer profile features\n",
    "customer_profiles = transactions.groupby('CustomerID').agg(\n",
    "    total_spend=('TotalValue', 'sum'),\n",
    "    purchase_count=('TransactionID', 'count'),\n",
    "    avg_purchase_value=('TotalValue', 'mean'),\n",
    "    diversity_of_categories=('Category', lambda x: len(x.unique())),\n",
    "    most_frequent_category=('Category', lambda x: x.mode()[0] if not x.mode().empty else 'Unknown'),\n",
    "    latest_transaction=('TransactionDate', lambda x: max(pd.to_datetime(x)))\n",
    ").reset_index()"
   ]
  },
  {
   "cell_type": "code",
   "execution_count": 9,
   "id": "56f63da6-5e94-44c6-9990-7d2345042a2b",
   "metadata": {},
   "outputs": [],
   "source": [
    "# Add recency feature (days since last transaction)\n",
    "customer_profiles['recency_days'] = (pd.to_datetime('today') - customer_profiles['latest_transaction']).dt.days"
   ]
  },
  {
   "cell_type": "code",
   "execution_count": 10,
   "id": "9427df62-faff-4945-89fc-2c354ce06320",
   "metadata": {},
   "outputs": [],
   "source": [
    "# Merge with customer demographics\n",
    "customer_profiles = customer_profiles.merge(customers[['CustomerID', 'Region', 'SignupDate']], on='CustomerID', how='left')"
   ]
  },
  {
   "cell_type": "code",
   "execution_count": 11,
   "id": "9eda1cdc-81db-40c4-84cd-ab426ccbb015",
   "metadata": {},
   "outputs": [],
   "source": [
    "# Calculate customer age in days\n",
    "customer_profiles['SignupDate'] = pd.to_datetime(customer_profiles['SignupDate'])\n",
    "customer_profiles['customer_age'] = (pd.to_datetime('today') - customer_profiles['SignupDate']).dt.days"
   ]
  },
  {
   "cell_type": "code",
   "execution_count": 12,
   "id": "479cd85e-b6b9-461d-95e6-7e0651beb117",
   "metadata": {},
   "outputs": [],
   "source": [
    "# Drop unnecessary columns\n",
    "customer_profiles.drop(columns=['SignupDate', 'latest_transaction'], inplace=True)"
   ]
  },
  {
   "cell_type": "code",
   "execution_count": 13,
   "id": "8f16aea2-c607-45b9-a3c5-02b661c0d679",
   "metadata": {},
   "outputs": [],
   "source": [
    "# Ensure categorical columns are strings\n",
    "customer_profiles['Region'] = customer_profiles['Region'].astype(str)\n",
    "customer_profiles['most_frequent_category'] = customer_profiles['most_frequent_category'].astype(str)"
   ]
  },
  {
   "cell_type": "code",
   "execution_count": 17,
   "id": "59b6ffae-8550-4200-b65b-481d7240525a",
   "metadata": {},
   "outputs": [],
   "source": [
    "# Define Preprocessor for Categorical and Numeric Data\n",
    "from sklearn.compose import ColumnTransformer\n",
    "from sklearn.preprocessing import OneHotEncoder\n",
    "from sklearn.preprocessing import StandardScaler\n",
    "encoder = ColumnTransformer(\n",
    "    transformers=[\n",
    "        ('region', OneHotEncoder(sparse_output=False), ['Region']),\n",
    "        ('most_frequent_category', OneHotEncoder(sparse_output=False), ['most_frequent_category'])\n",
    "    ],\n",
    "    remainder='passthrough'\n",
    ")\n",
    "\n",
    "# Continuous features to scale\n",
    "scaler = StandardScaler()\n",
    "continuous_columns = ['total_spend', 'purchase_count', 'avg_purchase_value', \n",
    "                      'diversity_of_categories', 'recency_days', 'customer_age']"
   ]
  },
  {
   "cell_type": "code",
   "execution_count": 18,
   "id": "53c1b500-3e83-4fc1-a659-53f7ac7ab318",
   "metadata": {},
   "outputs": [],
   "source": [
    "# Transform data\n",
    "transformed_data = encoder.fit_transform(customer_profiles.drop(columns=['CustomerID']))\n",
    "encoded_columns = encoder.get_feature_names_out()\n",
    "scaled_continuous_data = scaler.fit_transform(customer_profiles[continuous_columns])"
   ]
  },
  {
   "cell_type": "code",
   "execution_count": 21,
   "id": "e660d98f-7266-441a-9aec-1a45a47a738d",
   "metadata": {},
   "outputs": [],
   "source": [
    "# Combine transformed data\n",
    "final_data = np.hstack([transformed_data, scaled_continuous_data])"
   ]
  },
  {
   "cell_type": "code",
   "execution_count": 22,
   "id": "79882ddb-9a72-4057-adc5-8f4c57a65502",
   "metadata": {},
   "outputs": [],
   "source": [
    "# Similarity Calculation using Cosine Similarity\n",
    "from sklearn.metrics.pairwise import cosine_similarity\n",
    "cosine_sim = cosine_similarity(final_data)"
   ]
  },
  {
   "cell_type": "code",
   "execution_count": 23,
   "id": "1359d1a2-5000-47b1-a5fe-e666d8da5c3d",
   "metadata": {},
   "outputs": [],
   "source": [
    "# Get top 3 similar customers for each customer (for C0001 - C0020)\n",
    "top_3_lookalikes = {}\n",
    "\n",
    "for i in range(20):  # First 20 customers (C0001 to C0020)\n",
    "    customer_id = customer_profiles.loc[i, 'CustomerID']\n",
    "    similarity_scores = cosine_sim[i]\n",
    "    \n",
    "    # Get top 3 most similar customers (excluding self)\n",
    "    similar_customers_indices = np.argsort(similarity_scores)[::-1][1:4]\n",
    "    similar_customers = [\n",
    "        (customer_profiles.loc[j, 'CustomerID'], round(similarity_scores[j], 4))\n",
    "        for j in similar_customers_indices\n",
    "    ]\n",
    "    top_3_lookalikes[customer_id] = similar_customers"
   ]
  },
  {
   "cell_type": "code",
   "execution_count": 24,
   "id": "ef8120b3-78b2-47f3-9e74-beb2aa8e26be",
   "metadata": {},
   "outputs": [],
   "source": [
    "# Save the map to Lookalike.csv\n",
    "lookalike_map = []\n",
    "\n",
    "for customer_id, similar_list in top_3_lookalikes.items():\n",
    "    lookalike_map.append({\n",
    "        'cust_id': customer_id,\n",
    "        'lookalikes': similar_list\n",
    "    })\n",
    "\n",
    "lookalike_df = pd.DataFrame(lookalike_map)"
   ]
  },
  {
   "cell_type": "code",
   "execution_count": 25,
   "id": "3985e5b4-7f1b-42f0-9ece-7fda003427fa",
   "metadata": {},
   "outputs": [
    {
     "data": {
      "text/html": [
       "<div>\n",
       "<style scoped>\n",
       "    .dataframe tbody tr th:only-of-type {\n",
       "        vertical-align: middle;\n",
       "    }\n",
       "\n",
       "    .dataframe tbody tr th {\n",
       "        vertical-align: top;\n",
       "    }\n",
       "\n",
       "    .dataframe thead th {\n",
       "        text-align: right;\n",
       "    }\n",
       "</style>\n",
       "<table border=\"1\" class=\"dataframe\">\n",
       "  <thead>\n",
       "    <tr style=\"text-align: right;\">\n",
       "      <th></th>\n",
       "      <th>cust_id</th>\n",
       "      <th>lookalikes</th>\n",
       "    </tr>\n",
       "  </thead>\n",
       "  <tbody>\n",
       "    <tr>\n",
       "      <th>0</th>\n",
       "      <td>C0001</td>\n",
       "      <td>[(C0174, 0.9999), (C0106, 0.9999), (C0088, 0.9...</td>\n",
       "    </tr>\n",
       "    <tr>\n",
       "      <th>1</th>\n",
       "      <td>C0002</td>\n",
       "      <td>[(C0029, 0.9999), (C0025, 0.998), (C0121, 0.99...</td>\n",
       "    </tr>\n",
       "    <tr>\n",
       "      <th>2</th>\n",
       "      <td>C0003</td>\n",
       "      <td>[(C0052, 0.9999), (C0177, 0.9995), (C0031, 0.9...</td>\n",
       "    </tr>\n",
       "    <tr>\n",
       "      <th>3</th>\n",
       "      <td>C0004</td>\n",
       "      <td>[(C0104, 1.0), (C0165, 0.9999), (C0188, 0.9998)]</td>\n",
       "    </tr>\n",
       "    <tr>\n",
       "      <th>4</th>\n",
       "      <td>C0005</td>\n",
       "      <td>[(C0159, 0.9998), (C0176, 0.9992), (C0132, 0.9...</td>\n",
       "    </tr>\n",
       "  </tbody>\n",
       "</table>\n",
       "</div>"
      ],
      "text/plain": [
       "  cust_id                                         lookalikes\n",
       "0   C0001  [(C0174, 0.9999), (C0106, 0.9999), (C0088, 0.9...\n",
       "1   C0002  [(C0029, 0.9999), (C0025, 0.998), (C0121, 0.99...\n",
       "2   C0003  [(C0052, 0.9999), (C0177, 0.9995), (C0031, 0.9...\n",
       "3   C0004   [(C0104, 1.0), (C0165, 0.9999), (C0188, 0.9998)]\n",
       "4   C0005  [(C0159, 0.9998), (C0176, 0.9992), (C0132, 0.9..."
      ]
     },
     "execution_count": 25,
     "metadata": {},
     "output_type": "execute_result"
    }
   ],
   "source": [
    "lookalike_df.head()"
   ]
  },
  {
   "cell_type": "code",
   "execution_count": 26,
   "id": "7a6c6bac-3de6-4588-8c6a-568f62ae9c3f",
   "metadata": {},
   "outputs": [
    {
     "name": "stdout",
     "output_type": "stream",
     "text": [
      "Lookalike Model has been generated and saved to Lookalike.csv\n"
     ]
    }
   ],
   "source": [
    "# Save the output to Lookalike.csv\n",
    "lookalike_df.to_csv('Lookalike.csv', index=False)\n",
    "\n",
    "print(\"Lookalike Model has been generated and saved to Lookalike.csv\")"
   ]
  },
  {
   "cell_type": "code",
   "execution_count": null,
   "id": "932415a2-c796-429f-99b6-49ccbe80a796",
   "metadata": {},
   "outputs": [],
   "source": []
  }
 ],
 "metadata": {
  "kernelspec": {
   "display_name": "Python 3 (ipykernel)",
   "language": "python",
   "name": "python3"
  },
  "language_info": {
   "codemirror_mode": {
    "name": "ipython",
    "version": 3
   },
   "file_extension": ".py",
   "mimetype": "text/x-python",
   "name": "python",
   "nbconvert_exporter": "python",
   "pygments_lexer": "ipython3",
   "version": "3.12.7"
  }
 },
 "nbformat": 4,
 "nbformat_minor": 5
}
