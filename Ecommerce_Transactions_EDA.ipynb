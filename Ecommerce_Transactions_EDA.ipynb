{
 "cells": [
  {
   "cell_type": "code",
   "execution_count": 1,
   "id": "5bf4995a",
   "metadata": {},
   "outputs": [],
   "source": [
    "# Import Necessary Libraries\n",
    "import pandas as pd\n",
    "import matplotlib.pyplot as plt\n",
    "import seaborn as sns\n",
    "import warnings\n",
    "warnings.simplefilter('ignore')"
   ]
  },
  {
   "cell_type": "code",
   "execution_count": 2,
   "id": "d105436a",
   "metadata": {},
   "outputs": [],
   "source": [
    "# Load the data\n",
    "customers = pd.read_csv('Customers.csv')\n",
    "products = pd.read_csv('Products.csv')\n",
    "transactions = pd.read_csv('Transactions.csv')"
   ]
  },
  {
   "cell_type": "code",
   "execution_count": 6,
   "id": "460021a4",
   "metadata": {},
   "outputs": [
    {
     "data": {
      "text/html": [
       "<div>\n",
       "<style scoped>\n",
       "    .dataframe tbody tr th:only-of-type {\n",
       "        vertical-align: middle;\n",
       "    }\n",
       "\n",
       "    .dataframe tbody tr th {\n",
       "        vertical-align: top;\n",
       "    }\n",
       "\n",
       "    .dataframe thead th {\n",
       "        text-align: right;\n",
       "    }\n",
       "</style>\n",
       "<table border=\"1\" class=\"dataframe\">\n",
       "  <thead>\n",
       "    <tr style=\"text-align: right;\">\n",
       "      <th></th>\n",
       "      <th>CustomerID</th>\n",
       "      <th>CustomerName</th>\n",
       "      <th>Region</th>\n",
       "      <th>SignupDate</th>\n",
       "    </tr>\n",
       "  </thead>\n",
       "  <tbody>\n",
       "    <tr>\n",
       "      <th>0</th>\n",
       "      <td>C0001</td>\n",
       "      <td>Lawrence Carroll</td>\n",
       "      <td>South America</td>\n",
       "      <td>2022-07-10</td>\n",
       "    </tr>\n",
       "    <tr>\n",
       "      <th>1</th>\n",
       "      <td>C0002</td>\n",
       "      <td>Elizabeth Lutz</td>\n",
       "      <td>Asia</td>\n",
       "      <td>2022-02-13</td>\n",
       "    </tr>\n",
       "    <tr>\n",
       "      <th>2</th>\n",
       "      <td>C0003</td>\n",
       "      <td>Michael Rivera</td>\n",
       "      <td>South America</td>\n",
       "      <td>2024-03-07</td>\n",
       "    </tr>\n",
       "  </tbody>\n",
       "</table>\n",
       "</div>"
      ],
      "text/plain": [
       "  CustomerID      CustomerName         Region  SignupDate\n",
       "0      C0001  Lawrence Carroll  South America  2022-07-10\n",
       "1      C0002    Elizabeth Lutz           Asia  2022-02-13\n",
       "2      C0003    Michael Rivera  South America  2024-03-07"
      ]
     },
     "execution_count": 6,
     "metadata": {},
     "output_type": "execute_result"
    }
   ],
   "source": [
    "# First 5 records of customers dataset\n",
    "customers.head(3)"
   ]
  },
  {
   "cell_type": "code",
   "execution_count": 4,
   "id": "8168adc7",
   "metadata": {},
   "outputs": [
    {
     "name": "stdout",
     "output_type": "stream",
     "text": [
      "No of rows and columns in customers dataset: 200,4\n"
     ]
    }
   ],
   "source": [
    "# shape of the customers dataset\n",
    "print(f'No of rows and columns in customers dataset: {customers.shape[0]},{customers.shape[1]}')"
   ]
  },
  {
   "cell_type": "code",
   "execution_count": 7,
   "id": "ba79132e",
   "metadata": {},
   "outputs": [
    {
     "data": {
      "text/html": [
       "<div>\n",
       "<style scoped>\n",
       "    .dataframe tbody tr th:only-of-type {\n",
       "        vertical-align: middle;\n",
       "    }\n",
       "\n",
       "    .dataframe tbody tr th {\n",
       "        vertical-align: top;\n",
       "    }\n",
       "\n",
       "    .dataframe thead th {\n",
       "        text-align: right;\n",
       "    }\n",
       "</style>\n",
       "<table border=\"1\" class=\"dataframe\">\n",
       "  <thead>\n",
       "    <tr style=\"text-align: right;\">\n",
       "      <th></th>\n",
       "      <th>ProductID</th>\n",
       "      <th>ProductName</th>\n",
       "      <th>Category</th>\n",
       "      <th>Price</th>\n",
       "    </tr>\n",
       "  </thead>\n",
       "  <tbody>\n",
       "    <tr>\n",
       "      <th>0</th>\n",
       "      <td>P001</td>\n",
       "      <td>ActiveWear Biography</td>\n",
       "      <td>Books</td>\n",
       "      <td>169.30</td>\n",
       "    </tr>\n",
       "    <tr>\n",
       "      <th>1</th>\n",
       "      <td>P002</td>\n",
       "      <td>ActiveWear Smartwatch</td>\n",
       "      <td>Electronics</td>\n",
       "      <td>346.30</td>\n",
       "    </tr>\n",
       "    <tr>\n",
       "      <th>2</th>\n",
       "      <td>P003</td>\n",
       "      <td>ComfortLiving Biography</td>\n",
       "      <td>Books</td>\n",
       "      <td>44.12</td>\n",
       "    </tr>\n",
       "  </tbody>\n",
       "</table>\n",
       "</div>"
      ],
      "text/plain": [
       "  ProductID              ProductName     Category   Price\n",
       "0      P001     ActiveWear Biography        Books  169.30\n",
       "1      P002    ActiveWear Smartwatch  Electronics  346.30\n",
       "2      P003  ComfortLiving Biography        Books   44.12"
      ]
     },
     "execution_count": 7,
     "metadata": {},
     "output_type": "execute_result"
    }
   ],
   "source": [
    "# first 5 records of products dataset\n",
    "products.head(3)"
   ]
  },
  {
   "cell_type": "code",
   "execution_count": 8,
   "id": "1d8eb505",
   "metadata": {},
   "outputs": [
    {
     "name": "stdout",
     "output_type": "stream",
     "text": [
      "No of rows and columns in Products dataset: 100,4\n"
     ]
    }
   ],
   "source": [
    "# dimension of the products dataset\n",
    "print(f'No of rows and columns in Products dataset: {products.shape[0]},{products.shape[1]}')"
   ]
  },
  {
   "cell_type": "code",
   "execution_count": 9,
   "id": "90a4f07f",
   "metadata": {},
   "outputs": [
    {
     "data": {
      "text/html": [
       "<div>\n",
       "<style scoped>\n",
       "    .dataframe tbody tr th:only-of-type {\n",
       "        vertical-align: middle;\n",
       "    }\n",
       "\n",
       "    .dataframe tbody tr th {\n",
       "        vertical-align: top;\n",
       "    }\n",
       "\n",
       "    .dataframe thead th {\n",
       "        text-align: right;\n",
       "    }\n",
       "</style>\n",
       "<table border=\"1\" class=\"dataframe\">\n",
       "  <thead>\n",
       "    <tr style=\"text-align: right;\">\n",
       "      <th></th>\n",
       "      <th>TransactionID</th>\n",
       "      <th>CustomerID</th>\n",
       "      <th>ProductID</th>\n",
       "      <th>TransactionDate</th>\n",
       "      <th>Quantity</th>\n",
       "      <th>TotalValue</th>\n",
       "      <th>Price</th>\n",
       "    </tr>\n",
       "  </thead>\n",
       "  <tbody>\n",
       "    <tr>\n",
       "      <th>0</th>\n",
       "      <td>T00001</td>\n",
       "      <td>C0199</td>\n",
       "      <td>P067</td>\n",
       "      <td>2024-08-25 12:38:23</td>\n",
       "      <td>1</td>\n",
       "      <td>300.68</td>\n",
       "      <td>300.68</td>\n",
       "    </tr>\n",
       "    <tr>\n",
       "      <th>1</th>\n",
       "      <td>T00112</td>\n",
       "      <td>C0146</td>\n",
       "      <td>P067</td>\n",
       "      <td>2024-05-27 22:23:54</td>\n",
       "      <td>1</td>\n",
       "      <td>300.68</td>\n",
       "      <td>300.68</td>\n",
       "    </tr>\n",
       "    <tr>\n",
       "      <th>2</th>\n",
       "      <td>T00166</td>\n",
       "      <td>C0127</td>\n",
       "      <td>P067</td>\n",
       "      <td>2024-04-25 07:38:55</td>\n",
       "      <td>1</td>\n",
       "      <td>300.68</td>\n",
       "      <td>300.68</td>\n",
       "    </tr>\n",
       "  </tbody>\n",
       "</table>\n",
       "</div>"
      ],
      "text/plain": [
       "  TransactionID CustomerID ProductID      TransactionDate  Quantity  \\\n",
       "0        T00001      C0199      P067  2024-08-25 12:38:23         1   \n",
       "1        T00112      C0146      P067  2024-05-27 22:23:54         1   \n",
       "2        T00166      C0127      P067  2024-04-25 07:38:55         1   \n",
       "\n",
       "   TotalValue   Price  \n",
       "0      300.68  300.68  \n",
       "1      300.68  300.68  \n",
       "2      300.68  300.68  "
      ]
     },
     "execution_count": 9,
     "metadata": {},
     "output_type": "execute_result"
    }
   ],
   "source": [
    "# first 5 records of the transactions dataset\n",
    "transactions.head(3)"
   ]
  },
  {
   "cell_type": "code",
   "execution_count": 10,
   "id": "06b9f139",
   "metadata": {},
   "outputs": [
    {
     "name": "stdout",
     "output_type": "stream",
     "text": [
      "No of rows and columns in Transactions dataset: 1000,7\n"
     ]
    }
   ],
   "source": [
    "# dimension of the transactions dataset\n",
    "print(f'No of rows and columns in Transactions dataset: {transactions.shape[0]},{transactions.shape[1]}')"
   ]
  },
  {
   "cell_type": "code",
   "execution_count": 11,
   "id": "b67068a4",
   "metadata": {},
   "outputs": [],
   "source": [
    "# merging of transaction dataset with customers dataset\n",
    "transactions = pd.merge(transactions,customers,on='CustomerID',how='inner')"
   ]
  },
  {
   "cell_type": "code",
   "execution_count": 14,
   "id": "f3ed4bb9",
   "metadata": {},
   "outputs": [],
   "source": [
    "# merging of transactions dataset with customers dataset\n",
    "data = pd.merge(transactions,products,on='ProductID',how='inner')"
   ]
  },
  {
   "cell_type": "code",
   "execution_count": 15,
   "id": "52bf362c",
   "metadata": {},
   "outputs": [
    {
     "data": {
      "text/html": [
       "<div>\n",
       "<style scoped>\n",
       "    .dataframe tbody tr th:only-of-type {\n",
       "        vertical-align: middle;\n",
       "    }\n",
       "\n",
       "    .dataframe tbody tr th {\n",
       "        vertical-align: top;\n",
       "    }\n",
       "\n",
       "    .dataframe thead th {\n",
       "        text-align: right;\n",
       "    }\n",
       "</style>\n",
       "<table border=\"1\" class=\"dataframe\">\n",
       "  <thead>\n",
       "    <tr style=\"text-align: right;\">\n",
       "      <th></th>\n",
       "      <th>TransactionID</th>\n",
       "      <th>CustomerID</th>\n",
       "      <th>ProductID</th>\n",
       "      <th>TransactionDate</th>\n",
       "      <th>Quantity</th>\n",
       "      <th>TotalValue</th>\n",
       "      <th>Price_x</th>\n",
       "      <th>CustomerName</th>\n",
       "      <th>Region</th>\n",
       "      <th>SignupDate</th>\n",
       "      <th>ProductName</th>\n",
       "      <th>Category</th>\n",
       "      <th>Price_y</th>\n",
       "    </tr>\n",
       "  </thead>\n",
       "  <tbody>\n",
       "    <tr>\n",
       "      <th>0</th>\n",
       "      <td>T00001</td>\n",
       "      <td>C0199</td>\n",
       "      <td>P067</td>\n",
       "      <td>2024-08-25 12:38:23</td>\n",
       "      <td>1</td>\n",
       "      <td>300.68</td>\n",
       "      <td>300.68</td>\n",
       "      <td>Andrea Jenkins</td>\n",
       "      <td>Europe</td>\n",
       "      <td>2022-12-03</td>\n",
       "      <td>ComfortLiving Bluetooth Speaker</td>\n",
       "      <td>Electronics</td>\n",
       "      <td>300.68</td>\n",
       "    </tr>\n",
       "    <tr>\n",
       "      <th>1</th>\n",
       "      <td>T00112</td>\n",
       "      <td>C0146</td>\n",
       "      <td>P067</td>\n",
       "      <td>2024-05-27 22:23:54</td>\n",
       "      <td>1</td>\n",
       "      <td>300.68</td>\n",
       "      <td>300.68</td>\n",
       "      <td>Brittany Harvey</td>\n",
       "      <td>Asia</td>\n",
       "      <td>2024-09-04</td>\n",
       "      <td>ComfortLiving Bluetooth Speaker</td>\n",
       "      <td>Electronics</td>\n",
       "      <td>300.68</td>\n",
       "    </tr>\n",
       "    <tr>\n",
       "      <th>2</th>\n",
       "      <td>T00166</td>\n",
       "      <td>C0127</td>\n",
       "      <td>P067</td>\n",
       "      <td>2024-04-25 07:38:55</td>\n",
       "      <td>1</td>\n",
       "      <td>300.68</td>\n",
       "      <td>300.68</td>\n",
       "      <td>Kathryn Stevens</td>\n",
       "      <td>Europe</td>\n",
       "      <td>2024-04-04</td>\n",
       "      <td>ComfortLiving Bluetooth Speaker</td>\n",
       "      <td>Electronics</td>\n",
       "      <td>300.68</td>\n",
       "    </tr>\n",
       "  </tbody>\n",
       "</table>\n",
       "</div>"
      ],
      "text/plain": [
       "  TransactionID CustomerID ProductID      TransactionDate  Quantity  \\\n",
       "0        T00001      C0199      P067  2024-08-25 12:38:23         1   \n",
       "1        T00112      C0146      P067  2024-05-27 22:23:54         1   \n",
       "2        T00166      C0127      P067  2024-04-25 07:38:55         1   \n",
       "\n",
       "   TotalValue  Price_x     CustomerName  Region  SignupDate  \\\n",
       "0      300.68   300.68   Andrea Jenkins  Europe  2022-12-03   \n",
       "1      300.68   300.68  Brittany Harvey    Asia  2024-09-04   \n",
       "2      300.68   300.68  Kathryn Stevens  Europe  2024-04-04   \n",
       "\n",
       "                       ProductName     Category  Price_y  \n",
       "0  ComfortLiving Bluetooth Speaker  Electronics   300.68  \n",
       "1  ComfortLiving Bluetooth Speaker  Electronics   300.68  \n",
       "2  ComfortLiving Bluetooth Speaker  Electronics   300.68  "
      ]
     },
     "execution_count": 15,
     "metadata": {},
     "output_type": "execute_result"
    }
   ],
   "source": [
    "# First 5 records of customers dataset\n",
    "data.head(3)"
   ]
  },
  {
   "cell_type": "code",
   "execution_count": 16,
   "id": "7ef9322a",
   "metadata": {},
   "outputs": [],
   "source": [
    "# delete unecessary columns \n",
    "data.drop(columns=['CustomerID','ProductID','Price_x'],inplace=True)"
   ]
  },
  {
   "cell_type": "code",
   "execution_count": 17,
   "id": "0510928d",
   "metadata": {},
   "outputs": [],
   "source": [
    "# renaming price column\n",
    "data.rename(columns={'Price_y':'Price'},inplace=True)"
   ]
  },
  {
   "cell_type": "code",
   "execution_count": 18,
   "id": "b47c6096",
   "metadata": {},
   "outputs": [
    {
     "data": {
      "text/html": [
       "<div>\n",
       "<style scoped>\n",
       "    .dataframe tbody tr th:only-of-type {\n",
       "        vertical-align: middle;\n",
       "    }\n",
       "\n",
       "    .dataframe tbody tr th {\n",
       "        vertical-align: top;\n",
       "    }\n",
       "\n",
       "    .dataframe thead th {\n",
       "        text-align: right;\n",
       "    }\n",
       "</style>\n",
       "<table border=\"1\" class=\"dataframe\">\n",
       "  <thead>\n",
       "    <tr style=\"text-align: right;\">\n",
       "      <th></th>\n",
       "      <th>TransactionID</th>\n",
       "      <th>TransactionDate</th>\n",
       "      <th>Quantity</th>\n",
       "      <th>TotalValue</th>\n",
       "      <th>CustomerName</th>\n",
       "      <th>Region</th>\n",
       "      <th>SignupDate</th>\n",
       "      <th>ProductName</th>\n",
       "      <th>Category</th>\n",
       "      <th>Price</th>\n",
       "    </tr>\n",
       "  </thead>\n",
       "  <tbody>\n",
       "    <tr>\n",
       "      <th>0</th>\n",
       "      <td>T00001</td>\n",
       "      <td>2024-08-25 12:38:23</td>\n",
       "      <td>1</td>\n",
       "      <td>300.68</td>\n",
       "      <td>Andrea Jenkins</td>\n",
       "      <td>Europe</td>\n",
       "      <td>2022-12-03</td>\n",
       "      <td>ComfortLiving Bluetooth Speaker</td>\n",
       "      <td>Electronics</td>\n",
       "      <td>300.68</td>\n",
       "    </tr>\n",
       "    <tr>\n",
       "      <th>1</th>\n",
       "      <td>T00112</td>\n",
       "      <td>2024-05-27 22:23:54</td>\n",
       "      <td>1</td>\n",
       "      <td>300.68</td>\n",
       "      <td>Brittany Harvey</td>\n",
       "      <td>Asia</td>\n",
       "      <td>2024-09-04</td>\n",
       "      <td>ComfortLiving Bluetooth Speaker</td>\n",
       "      <td>Electronics</td>\n",
       "      <td>300.68</td>\n",
       "    </tr>\n",
       "    <tr>\n",
       "      <th>2</th>\n",
       "      <td>T00166</td>\n",
       "      <td>2024-04-25 07:38:55</td>\n",
       "      <td>1</td>\n",
       "      <td>300.68</td>\n",
       "      <td>Kathryn Stevens</td>\n",
       "      <td>Europe</td>\n",
       "      <td>2024-04-04</td>\n",
       "      <td>ComfortLiving Bluetooth Speaker</td>\n",
       "      <td>Electronics</td>\n",
       "      <td>300.68</td>\n",
       "    </tr>\n",
       "  </tbody>\n",
       "</table>\n",
       "</div>"
      ],
      "text/plain": [
       "  TransactionID      TransactionDate  Quantity  TotalValue     CustomerName  \\\n",
       "0        T00001  2024-08-25 12:38:23         1      300.68   Andrea Jenkins   \n",
       "1        T00112  2024-05-27 22:23:54         1      300.68  Brittany Harvey   \n",
       "2        T00166  2024-04-25 07:38:55         1      300.68  Kathryn Stevens   \n",
       "\n",
       "   Region  SignupDate                      ProductName     Category   Price  \n",
       "0  Europe  2022-12-03  ComfortLiving Bluetooth Speaker  Electronics  300.68  \n",
       "1    Asia  2024-09-04  ComfortLiving Bluetooth Speaker  Electronics  300.68  \n",
       "2  Europe  2024-04-04  ComfortLiving Bluetooth Speaker  Electronics  300.68  "
      ]
     },
     "execution_count": 18,
     "metadata": {},
     "output_type": "execute_result"
    }
   ],
   "source": [
    "data.head(3)"
   ]
  },
  {
   "cell_type": "code",
   "execution_count": 19,
   "id": "706f0c40",
   "metadata": {},
   "outputs": [
    {
     "name": "stdout",
     "output_type": "stream",
     "text": [
      "No of rows and columns in merged dataset: 1000,10\n"
     ]
    }
   ],
   "source": [
    "print(f'No of rows and columns in merged dataset: {data.shape[0]},{data.shape[1]}')"
   ]
  },
  {
   "cell_type": "markdown",
   "id": "d3a2e5bb",
   "metadata": {},
   "source": [
    "**Understand each and every column**\n",
    "- **TransactionID:** Unique identifier for each transaction\n",
    "- **TransactionDate:** Date of transaction\n",
    "- **Quantity:** Quantityof the product purchased\n",
    "- **TotalValue:** Total value of the transaction\n",
    "- **ProductName:** Name of the product\n",
    "- **Category:** Product category\n",
    "- **Price:** Price of the product\n",
    "- **CustomerName:** Name of the customer\n",
    "- **Region:** Place of the customer\n",
    "- **SignupDate:** Date when the customer signedup"
   ]
  },
  {
   "cell_type": "code",
   "execution_count": 20,
   "id": "f3777042-38d2-49b0-9632-62413d2bb2e0",
   "metadata": {},
   "outputs": [],
   "source": [
    "# data.to_csv('merged_data.csv',index=False)"
   ]
  },
  {
   "cell_type": "code",
   "execution_count": 20,
   "id": "d8540b95",
   "metadata": {},
   "outputs": [
    {
     "name": "stdout",
     "output_type": "stream",
     "text": [
      "<class 'pandas.core.frame.DataFrame'>\n",
      "RangeIndex: 1000 entries, 0 to 999\n",
      "Data columns (total 10 columns):\n",
      " #   Column           Non-Null Count  Dtype  \n",
      "---  ------           --------------  -----  \n",
      " 0   TransactionID    1000 non-null   object \n",
      " 1   TransactionDate  1000 non-null   object \n",
      " 2   Quantity         1000 non-null   int64  \n",
      " 3   TotalValue       1000 non-null   float64\n",
      " 4   CustomerName     1000 non-null   object \n",
      " 5   Region           1000 non-null   object \n",
      " 6   SignupDate       1000 non-null   object \n",
      " 7   ProductName      1000 non-null   object \n",
      " 8   Category         1000 non-null   object \n",
      " 9   Price            1000 non-null   float64\n",
      "dtypes: float64(2), int64(1), object(7)\n",
      "memory usage: 78.3+ KB\n"
     ]
    }
   ],
   "source": [
    "data.info()"
   ]
  },
  {
   "cell_type": "markdown",
   "id": "77ecc622-7d4f-49d2-91cd-da144359e47f",
   "metadata": {},
   "source": [
    "## Exploratoty Data Analysis\n",
    "\n",
    "**Categorical column understanding**"
   ]
  },
  {
   "cell_type": "code",
   "execution_count": 21,
   "id": "8adeafd6",
   "metadata": {},
   "outputs": [
    {
     "data": {
      "text/plain": [
       "Index(['TransactionID', 'TransactionDate', 'Quantity', 'TotalValue',\n",
       "       'CustomerName', 'Region', 'SignupDate', 'ProductName', 'Category',\n",
       "       'Price'],\n",
       "      dtype='object')"
      ]
     },
     "execution_count": 21,
     "metadata": {},
     "output_type": "execute_result"
    }
   ],
   "source": [
    "data.columns"
   ]
  },
  {
   "cell_type": "code",
   "execution_count": null,
   "id": "3c37f24c-ebac-4cd3-8b03-1a9381e38d91",
   "metadata": {},
   "outputs": [],
   "source": [
    "numerical = ['Quantity','TotalValue',]\n",
    "categorical = ['Region','ProductName']\n",
    "other = ['TransactionID','TransactionDate','CustomerName','SignupDate']"
   ]
  },
  {
   "cell_type": "code",
   "execution_count": 22,
   "id": "5c434698",
   "metadata": {},
   "outputs": [],
   "source": [
    "data['TransactionDate'] = pd.to_datetime(data['TransactionDate'],format='mixed')\n",
    "data['SignupDate'] = pd.to_datetime(data['SignupDate'],format='mixed')"
   ]
  },
  {
   "cell_type": "code",
   "execution_count": 23,
   "id": "28b195ab",
   "metadata": {},
   "outputs": [],
   "source": [
    "data['TransactionMonth'] = data['TransactionDate'].dt.to_period('M')"
   ]
  },
  {
   "cell_type": "code",
   "execution_count": 24,
   "id": "981a7e7a",
   "metadata": {},
   "outputs": [],
   "source": [
    "data['SignupMonth'] = data['SignupDate'].dt.to_period('M')"
   ]
  },
  {
   "cell_type": "code",
   "execution_count": 25,
   "id": "ee857826",
   "metadata": {},
   "outputs": [],
   "source": [
    "data.sort_values(by='TransactionDate',ascending=True,inplace=True,ignore_index=True)"
   ]
  },
  {
   "cell_type": "code",
   "execution_count": 26,
   "id": "411dd7f3",
   "metadata": {},
   "outputs": [
    {
     "data": {
      "text/html": [
       "<div>\n",
       "<style scoped>\n",
       "    .dataframe tbody tr th:only-of-type {\n",
       "        vertical-align: middle;\n",
       "    }\n",
       "\n",
       "    .dataframe tbody tr th {\n",
       "        vertical-align: top;\n",
       "    }\n",
       "\n",
       "    .dataframe thead th {\n",
       "        text-align: right;\n",
       "    }\n",
       "</style>\n",
       "<table border=\"1\" class=\"dataframe\">\n",
       "  <thead>\n",
       "    <tr style=\"text-align: right;\">\n",
       "      <th></th>\n",
       "      <th>TransactionID</th>\n",
       "      <th>TransactionDate</th>\n",
       "      <th>Quantity</th>\n",
       "      <th>TotalValue</th>\n",
       "      <th>CustomerName</th>\n",
       "      <th>Region</th>\n",
       "      <th>SignupDate</th>\n",
       "      <th>ProductName</th>\n",
       "      <th>Category</th>\n",
       "      <th>Price</th>\n",
       "      <th>TransactionMonth</th>\n",
       "      <th>SignupMonth</th>\n",
       "    </tr>\n",
       "  </thead>\n",
       "  <tbody>\n",
       "    <tr>\n",
       "      <th>0</th>\n",
       "      <td>T00869</td>\n",
       "      <td>2023-12-30 15:29:12</td>\n",
       "      <td>2</td>\n",
       "      <td>313.92</td>\n",
       "      <td>Kimberly Turner</td>\n",
       "      <td>Europe</td>\n",
       "      <td>2024-02-24</td>\n",
       "      <td>HomeSense Desk Lamp</td>\n",
       "      <td>Home Decor</td>\n",
       "      <td>156.96</td>\n",
       "      <td>2023-12</td>\n",
       "      <td>2024-02</td>\n",
       "    </tr>\n",
       "    <tr>\n",
       "      <th>1</th>\n",
       "      <td>T00605</td>\n",
       "      <td>2023-12-31 03:27:43</td>\n",
       "      <td>4</td>\n",
       "      <td>958.80</td>\n",
       "      <td>Jennifer King</td>\n",
       "      <td>Europe</td>\n",
       "      <td>2023-12-05</td>\n",
       "      <td>ActiveWear Smartphone</td>\n",
       "      <td>Electronics</td>\n",
       "      <td>239.70</td>\n",
       "      <td>2023-12</td>\n",
       "      <td>2023-12</td>\n",
       "    </tr>\n",
       "    <tr>\n",
       "      <th>2</th>\n",
       "      <td>T00154</td>\n",
       "      <td>2023-12-31 06:53:54</td>\n",
       "      <td>4</td>\n",
       "      <td>1585.36</td>\n",
       "      <td>Michael Harrell</td>\n",
       "      <td>Asia</td>\n",
       "      <td>2022-03-07</td>\n",
       "      <td>ActiveWear Jacket</td>\n",
       "      <td>Clothing</td>\n",
       "      <td>396.34</td>\n",
       "      <td>2023-12</td>\n",
       "      <td>2022-03</td>\n",
       "    </tr>\n",
       "    <tr>\n",
       "      <th>3</th>\n",
       "      <td>T00845</td>\n",
       "      <td>2023-12-31 15:44:04</td>\n",
       "      <td>2</td>\n",
       "      <td>911.44</td>\n",
       "      <td>Robert Sharp</td>\n",
       "      <td>North America</td>\n",
       "      <td>2024-10-27</td>\n",
       "      <td>ActiveWear Smartwatch</td>\n",
       "      <td>Electronics</td>\n",
       "      <td>455.72</td>\n",
       "      <td>2023-12</td>\n",
       "      <td>2024-10</td>\n",
       "    </tr>\n",
       "    <tr>\n",
       "      <th>4</th>\n",
       "      <td>T00818</td>\n",
       "      <td>2024-01-01 03:54:19</td>\n",
       "      <td>1</td>\n",
       "      <td>147.95</td>\n",
       "      <td>Jessica Warren</td>\n",
       "      <td>Asia</td>\n",
       "      <td>2022-03-14</td>\n",
       "      <td>TechPro Textbook</td>\n",
       "      <td>Books</td>\n",
       "      <td>147.95</td>\n",
       "      <td>2024-01</td>\n",
       "      <td>2022-03</td>\n",
       "    </tr>\n",
       "  </tbody>\n",
       "</table>\n",
       "</div>"
      ],
      "text/plain": [
       "  TransactionID     TransactionDate  Quantity  TotalValue     CustomerName  \\\n",
       "0        T00869 2023-12-30 15:29:12         2      313.92  Kimberly Turner   \n",
       "1        T00605 2023-12-31 03:27:43         4      958.80    Jennifer King   \n",
       "2        T00154 2023-12-31 06:53:54         4     1585.36  Michael Harrell   \n",
       "3        T00845 2023-12-31 15:44:04         2      911.44     Robert Sharp   \n",
       "4        T00818 2024-01-01 03:54:19         1      147.95   Jessica Warren   \n",
       "\n",
       "          Region SignupDate            ProductName     Category   Price  \\\n",
       "0         Europe 2024-02-24    HomeSense Desk Lamp   Home Decor  156.96   \n",
       "1         Europe 2023-12-05  ActiveWear Smartphone  Electronics  239.70   \n",
       "2           Asia 2022-03-07      ActiveWear Jacket     Clothing  396.34   \n",
       "3  North America 2024-10-27  ActiveWear Smartwatch  Electronics  455.72   \n",
       "4           Asia 2022-03-14       TechPro Textbook        Books  147.95   \n",
       "\n",
       "  TransactionMonth SignupMonth  \n",
       "0          2023-12     2024-02  \n",
       "1          2023-12     2023-12  \n",
       "2          2023-12     2022-03  \n",
       "3          2023-12     2024-10  \n",
       "4          2024-01     2022-03  "
      ]
     },
     "execution_count": 26,
     "metadata": {},
     "output_type": "execute_result"
    }
   ],
   "source": [
    "data.head()"
   ]
  },
  {
   "cell_type": "markdown",
   "id": "38736812",
   "metadata": {},
   "source": [
    "**Observations:**\n",
    "- There is an error in the data, a person signup in 2024, but the transacation history shows he is shopping in 2023."
   ]
  },
  {
   "cell_type": "code",
   "execution_count": 27,
   "id": "0d8ab6b9",
   "metadata": {},
   "outputs": [],
   "source": [
    "categorical = ['Quantity','ProductName', 'Category','CustomerName', 'Region']\n",
    "numerical = ['TotalValue','Price']"
   ]
  },
  {
   "cell_type": "markdown",
   "id": "f9d27a03",
   "metadata": {},
   "source": [
    "**1. Customer Analysis**"
   ]
  },
  {
   "cell_type": "code",
   "execution_count": 28,
   "id": "6b9a1732",
   "metadata": {},
   "outputs": [
    {
     "data": {
      "text/plain": [
       "199"
      ]
     },
     "execution_count": 28,
     "metadata": {},
     "output_type": "execute_result"
    }
   ],
   "source": [
    "# Number of unique customers\n",
    "data['CustomerName'].nunique()"
   ]
  },
  {
   "cell_type": "markdown",
   "id": "82889a7f",
   "metadata": {},
   "source": [
    "**Observations**\n",
    "- There is a customer who didn't buy anything"
   ]
  },
  {
   "cell_type": "code",
   "execution_count": 29,
   "id": "27b17d02",
   "metadata": {},
   "outputs": [
    {
     "data": {
      "text/plain": [
       "Region\n",
       "South America    304\n",
       "North America    244\n",
       "Europe           234\n",
       "Asia             218\n",
       "Name: count, dtype: int64"
      ]
     },
     "execution_count": 29,
     "metadata": {},
     "output_type": "execute_result"
    }
   ],
   "source": [
    "# Frequency of transactions in region\n",
    "data['Region'].value_counts()"
   ]
  },
  {
   "cell_type": "markdown",
   "id": "379a2562",
   "metadata": {},
   "source": [
    "**2. Product Analysis**"
   ]
  },
  {
   "cell_type": "code",
   "execution_count": 30,
   "id": "3085c6b0",
   "metadata": {},
   "outputs": [
    {
     "data": {
      "text/plain": [
       "Category\n",
       "Books          270\n",
       "Electronics    254\n",
       "Home Decor     248\n",
       "Clothing       228\n",
       "Name: count, dtype: int64"
      ]
     },
     "execution_count": 30,
     "metadata": {},
     "output_type": "execute_result"
    }
   ],
   "source": [
    "# frequency of category\n",
    "data['Category'].value_counts()"
   ]
  },
  {
   "cell_type": "code",
   "execution_count": 30,
   "id": "dcb5ada3-e620-476e-8055-cb8cce0504f5",
   "metadata": {},
   "outputs": [
    {
     "name": "stdout",
     "output_type": "stream",
     "text": [
      "Category\n",
      "Books          192147.47\n",
      "Electronics    180783.50\n",
      "Clothing       166170.66\n",
      "Home Decor     150893.93\n",
      "Name: TotalValue, dtype: float64\n"
     ]
    }
   ],
   "source": [
    "# revenue on the basis of category\n",
    "category_revenue = data.groupby('Category')['TotalValue'].sum().sort_values(ascending=False).head(5)\n",
    "print(category_revenue)"
   ]
  },
  {
   "cell_type": "code",
   "execution_count": 31,
   "id": "bcda143b",
   "metadata": {},
   "outputs": [
    {
     "name": "stdout",
     "output_type": "stream",
     "text": [
      "ProductName\n",
      "ActiveWear Smartwatch    39096.97\n",
      "SoundWave Headphones     25211.64\n",
      "SoundWave Novel          24507.90\n",
      "ActiveWear Jacket        22712.56\n",
      "ActiveWear Rug           22314.43\n",
      "Name: TotalValue, dtype: float64\n"
     ]
    }
   ],
   "source": [
    "# Revenue on the basis of product\n",
    "product_revenue = data.groupby('ProductName')['TotalValue'].sum().sort_values(ascending=False).head(5)\n",
    "print(product_revenue)"
   ]
  },
  {
   "cell_type": "code",
   "execution_count": 32,
   "id": "fbb2d739",
   "metadata": {},
   "outputs": [
    {
     "data": {
      "text/plain": [
       "Quantity\n",
       "4    261\n",
       "3    254\n",
       "2    246\n",
       "1    239\n",
       "Name: count, dtype: int64"
      ]
     },
     "execution_count": 32,
     "metadata": {},
     "output_type": "execute_result"
    }
   ],
   "source": [
    "Frequency of quantity buying\n",
    "data['Quantity'].value_counts()"
   ]
  },
  {
   "cell_type": "markdown",
   "id": "5abbd622",
   "metadata": {},
   "source": [
    "**3. Transaction Trends**"
   ]
  },
  {
   "cell_type": "code",
   "execution_count": 33,
   "id": "f5f14a80",
   "metadata": {},
   "outputs": [
    {
     "name": "stdout",
     "output_type": "stream",
     "text": [
      "total sales in each month: TransactionMonth\n",
      "2023-12     3769.52\n",
      "2024-01    66376.39\n",
      "2024-02    51459.27\n",
      "2024-03    47828.73\n",
      "2024-04    57519.06\n",
      "2024-05    64527.74\n",
      "2024-06    48771.18\n",
      "2024-07    71366.39\n",
      "2024-08    63436.74\n",
      "2024-09    70603.75\n",
      "2024-10    47063.22\n",
      "2024-11    38224.37\n",
      "2024-12    59049.20\n",
      "Freq: M, Name: TotalValue, dtype: float64\n"
     ]
    }
   ],
   "source": [
    "monthly_sales=data.groupby(\"TransactionMonth\")[\"TotalValue\"].sum()\n",
    "print('total sales in each month:',monthly_sales)"
   ]
  },
  {
   "cell_type": "code",
   "execution_count": 34,
   "id": "1d6087fa",
   "metadata": {},
   "outputs": [
    {
     "name": "stdout",
     "output_type": "stream",
     "text": [
      "count     199.000000\n",
      "mean      687.580182\n",
      "std       237.936649\n",
      "min        82.360000\n",
      "25%       542.941667\n",
      "50%       677.207500\n",
      "75%       828.624167\n",
      "max      1323.133333\n",
      "Name: TotalValue, dtype: float64\n"
     ]
    }
   ],
   "source": [
    "avg_spend = data.groupby('CustomerName')['TotalValue'].mean()\n",
    "print(avg_spend.describe())"
   ]
  },
  {
   "cell_type": "code",
   "execution_count": 35,
   "id": "3553182e",
   "metadata": {},
   "outputs": [
    {
     "data": {
      "image/png": "[encoded data removed]",
      "text/plain": [
       "<Figure size 1500x1200 with 1 Axes>"
      ]
     },
     "metadata": {},
     "output_type": "display_data"
    }
   ],
   "source": [
    "plt.figure(figsize=(15,12))\n",
    "plt.subplot(3,2,1)\n",
    "plt.plot(monthly_sales.values,marker='o',label='Sales per month')\n",
    "x = monthly_sales.index.to_list()\n",
    "months = ['DEC','JAN','FEB','MAR','APR','MAY','JUN','JUL','AUG','SEP','OCT','NOV']\n",
    "plt.xticks([0,1,2,3,4,5,6,7,8,9,10,11],months)\n",
    "plt.legend()\n",
    "plt.show()"
   ]
  },
  {
   "cell_type": "code",
   "execution_count": 36,
   "id": "011ba5a0",
   "metadata": {},
   "outputs": [
    {
     "name": "stdout",
     "output_type": "stream",
     "text": [
      "total sales in each month: Region\n",
      "Asia             152074.97\n",
      "Europe           166254.63\n",
      "North America    152313.40\n",
      "South America    219352.56\n",
      "Name: TotalValue, dtype: float64\n"
     ]
    }
   ],
   "source": [
    "sales_based_on_region=data.groupby(\"Region\")[\"TotalValue\"].sum()\n",
    "print('total sales in each month:',sales_based_on_region)"
   ]
  },
  {
   "cell_type": "code",
   "execution_count": 21,
   "id": "de84e71c",
   "metadata": {},
   "outputs": [
    {
     "data": {
      "image/png": "[encoded data removed]",
      "text/plain": [
       "<Figure size 1000x600 with 1 Axes>"
      ]
     },
     "metadata": {},
     "output_type": "display_data"
    }
   ],
   "source": [
    "# Group data and calculate the sum\n",
    "region_values = data.groupby(\"Region\")[\"TotalValue\"].sum()\n",
    "\n",
    "# Create a bar plot\n",
    "plt.figure(figsize=(10, 6))\n",
    "sns.barplot(x=region_values.index, y=region_values.values, palette=\"viridis\")\n",
    "\n",
    "# Add labels and title\n",
    "plt.xlabel(\"Region\", fontsize=12)\n",
    "plt.ylabel(\"Total Value\", fontsize=12)\n",
    "plt.title(\"Total Value by Region\", fontsize=14)\n",
    "plt.xticks(rotation=45)\n",
    "plt.grid(axis='y', linestyle='--', alpha=0.7)\n",
    "\n",
    "# Show the plot\n",
    "plt.tight_layout()\n",
    "plt.show()"
   ]
  },
  {
   "cell_type": "code",
   "execution_count": 22,
   "id": "7ad60621",
   "metadata": {},
   "outputs": [
    {
     "data": {
      "image/png": "[encoded data removed]",
      "text/plain": [
       "<Figure size 1000x600 with 1 Axes>"
      ]
     },
     "metadata": {},
     "output_type": "display_data"
    }
   ],
   "source": [
    "# Group data and calculate the sum\n",
    "top_5_cust = data.groupby(\"CustomerName\")[\"TotalValue\"].sum()\n",
    "\n",
    "# Sort and select the top 5 customers\n",
    "top_5_cust = top_5_cust.sort_values(ascending=False).head()\n",
    "\n",
    "# Create a bar plot\n",
    "plt.figure(figsize=(10, 6))\n",
    "sns.barplot(x=top_5_cust.values, y=top_5_cust.index, palette=\"coolwarm\")\n",
    "\n",
    "# Add labels and title\n",
    "plt.xlabel(\"Total Value\", fontsize=12)\n",
    "plt.ylabel(\"Customer Name\", fontsize=12)\n",
    "plt.title(\"Top 5 Customers by Total Value\", fontsize=14)\n",
    "plt.grid(axis='x', linestyle='--', alpha=0.7)\n",
    "\n",
    "# Show the plot\n",
    "plt.tight_layout()\n",
    "plt.show()\n"
   ]
  },
  {
   "cell_type": "code",
   "execution_count": 24,
   "id": "c9448d87",
   "metadata": {},
   "outputs": [
    {
     "data": {
      "image/png": "[encoded data removed]",
      "text/plain": [
       "<Figure size 1000x600 with 1 Axes>"
      ]
     },
     "metadata": {},
     "output_type": "display_data"
    }
   ],
   "source": [
    "# Group data and calculate revenue on the basis of category\n",
    "category_revenue = data.groupby('Category')['TotalValue'].sum().sort_values(ascending=False).head(5)\n",
    "\n",
    "# Create a bar plot\n",
    "plt.figure(figsize=(10, 6))\n",
    "sns.barplot(x=category_revenue.values, y=category_revenue.index, palette=\"magma\")\n",
    "\n",
    "# Add labels and title\n",
    "plt.xlabel(\"Revenue (Total Value)\", fontsize=12)\n",
    "plt.ylabel(\"Category\", fontsize=12)\n",
    "plt.title(\"Top 5 Categories by Revenue\", fontsize=14)\n",
    "plt.grid(axis='x', linestyle='--', alpha=0.7)\n",
    "\n",
    "# Show the plot\n",
    "plt.tight_layout()\n",
    "plt.show()"
   ]
  },
  {
   "cell_type": "code",
   "execution_count": 26,
   "id": "81ebc971",
   "metadata": {},
   "outputs": [
    {
     "data": {
      "image/png": "[encoded data removed]",
      "text/plain": [
       "<Figure size 1000x600 with 1 Axes>"
      ]
     },
     "metadata": {},
     "output_type": "display_data"
    }
   ],
   "source": [
    "# Group data and calculate revenue on the basis of product\n",
    "product_revenue = data.groupby('ProductName')['TotalValue'].sum().sort_values(ascending=False).head(5)\n",
    "\n",
    "# Create a bar plot\n",
    "plt.figure(figsize=(10, 6))\n",
    "sns.barplot(x=product_revenue.values, y=product_revenue.index, palette=\"crest\")\n",
    "\n",
    "# Add labels and title\n",
    "plt.xlabel(\"Revenue (Total Value)\", fontsize=12)\n",
    "plt.ylabel(\"Product Name\", fontsize=12)\n",
    "plt.title(\"Top 5 Products by Revenue\", fontsize=14)\n",
    "plt.grid(axis='x', linestyle='--', alpha=0.7)\n",
    "\n",
    "# Show the plot\n",
    "plt.tight_layout()\n",
    "plt.show()"
   ]
  },
  {
   "cell_type": "code",
   "execution_count": null,
   "id": "052ebf69",
   "metadata": {},
   "outputs": [],
   "source": []
  },
  {
   "cell_type": "code",
   "execution_count": null,
   "id": "74cb072d",
   "metadata": {},
   "outputs": [],
   "source": []
  },
  {
   "cell_type": "code",
   "execution_count": null,
   "id": "7fe544c8",
   "metadata": {},
   "outputs": [],
   "source": []
  }
 ],
 "metadata": {
  "kernelspec": {
   "display_name": "Python 3 (ipykernel)",
   "language": "python",
   "name": "python3"
  },
  "language_info": {
   "codemirror_mode": {
    "name": "ipython",
    "version": 3
   },
   "file_extension": ".py",
   "mimetype": "text/x-python",
   "name": "python",
   "nbconvert_exporter": "python",
   "pygments_lexer": "ipython3",
   "version": "3.12.7"
  }
 },
 "nbformat": 4,
 "nbformat_minor": 5
}
